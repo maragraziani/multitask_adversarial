{
 "cells": [
  {
   "cell_type": "code",
   "execution_count": 1,
   "metadata": {},
   "outputs": [],
   "source": [
    "import numpy as np"
   ]
  },
  {
   "cell_type": "code",
   "execution_count": 24,
   "metadata": {},
   "outputs": [],
   "source": [
    "FOLD = 'DOMAIN'"
   ]
  },
  {
   "cell_type": "code",
   "execution_count": 37,
   "metadata": {},
   "outputs": [],
   "source": [
    "cvalues=np.load('../../results/{}/def_base_cvaluesfinetuned_features3.npy'.format(FOLD))\n",
    "features=np.load('../../results/{}/def_base_featuresfinetuned_features3.npy'.format(FOLD))"
   ]
  },
  {
   "cell_type": "code",
   "execution_count": 19,
   "metadata": {},
   "outputs": [],
   "source": [
    "from sklearn.linear_model import LogisticRegression"
   ]
  },
  {
   "cell_type": "code",
   "execution_count": 32,
   "metadata": {},
   "outputs": [],
   "source": [
    "cval = np.asarray([np.argmax(cvalues[i,:]) for i in range(len(cvalues))])"
   ]
  },
  {
   "cell_type": "code",
   "execution_count": 34,
   "metadata": {},
   "outputs": [
    {
     "data": {
      "text/plain": [
       "0.9839044019022071"
      ]
     },
     "execution_count": 34,
     "metadata": {},
     "output_type": "execute_result"
    }
   ],
   "source": [
    "clf = LogisticRegression(random_state=0).fit(features[:100000,], cval[:100000,])\n",
    "clf.score(features[100000:,], cval[100000:,])"
   ]
  },
  {
   "cell_type": "code",
   "execution_count": 41,
   "metadata": {},
   "outputs": [
    {
     "data": {
      "text/plain": [
       "139417"
      ]
     },
     "execution_count": 41,
     "metadata": {},
     "output_type": "execute_result"
    }
   ],
   "source": [
    "len(features)"
   ]
  },
  {
   "cell_type": "code",
   "execution_count": 35,
   "metadata": {},
   "outputs": [
    {
     "data": {
      "text/plain": [
       "0.9851811472058645"
      ]
     },
     "execution_count": 35,
     "metadata": {},
     "output_type": "execute_result"
    }
   ],
   "source": [
    "cvalues=np.load('../../results/{}/def_cvaluesfinetuned_features3.npy'.format(FOLD))\n",
    "features=np.load('../../results/{}/def_featuresfinetuned_features3.npy'.format(FOLD))\n",
    "cval = np.asarray([np.argmax(cvalues[i,:]) for i in range(len(cvalues))])\n",
    "clf = LogisticRegression(random_state=0).fit(features[:100000,], cval[:100000,])\n",
    "clf.score(features[100000:,], cval[100000:,])"
   ]
  },
  {
   "cell_type": "code",
   "execution_count": 4,
   "metadata": {},
   "outputs": [],
   "source": [
    "from sklearn.linear_model import LinearRegression"
   ]
  },
  {
   "cell_type": "code",
   "execution_count": null,
   "metadata": {},
   "outputs": [],
   "source": []
  },
  {
   "cell_type": "code",
   "execution_count": 5,
   "metadata": {},
   "outputs": [],
   "source": [
    "lr=LinearRegression()"
   ]
  },
  {
   "cell_type": "code",
   "execution_count": 6,
   "metadata": {},
   "outputs": [
    {
     "data": {
      "text/plain": [
       "0.552577645197402"
      ]
     },
     "execution_count": 6,
     "metadata": {},
     "output_type": "execute_result"
    }
   ],
   "source": [
    "lr.fit(features[:, :], cvalues[:])\n",
    "lr.score(features[:, :], cvalues[:])"
   ]
  },
  {
   "cell_type": "raw",
   "metadata": {},
   "source": [
    "NCOUNT base    0.8649748545484747, 0.8493042435658555\n",
    "NCOUNT         0.8770606175065991, 0.8744199045942062, 0.8682217697767156\n",
    "NAREA base     0.6631280556315602, 0.6547138357539131, 0.6577563479799076\n",
    "NAREA          0.704882804780748, 0.6945062814593652, 0.7074399163616315\n",
    "CONTRAST base  0.577382986043501, 0.5515703057649841, 0.552577645197402\n",
    "CONTRAST       0.6446168289352249, 0.637143775555619, 0.6414730924516989\n",
    "DOMAIN base    0.9839044019022071\n",
    "DOMAIN"
   ]
  },
  {
   "cell_type": "code",
   "execution_count": 7,
   "metadata": {},
   "outputs": [],
   "source": [
    "cvalues=np.load('../../results/{}/def_cvaluesfinetuned_features3.npy'.format(FOLD))\n",
    "features=np.load('../../results/{}/def_featuresfinetuned_features3.npy'.format(FOLD))"
   ]
  },
  {
   "cell_type": "code",
   "execution_count": 8,
   "metadata": {},
   "outputs": [
    {
     "data": {
      "text/plain": [
       "0.6414730924516989"
      ]
     },
     "execution_count": 8,
     "metadata": {},
     "output_type": "execute_result"
    }
   ],
   "source": [
    "lr=LinearRegression()\n",
    "lr.fit(features[:, :], cvalues[:])\n",
    "lr.score(features[:, :], cvalues[:])"
   ]
  },
  {
   "cell_type": "code",
   "execution_count": 16,
   "metadata": {},
   "outputs": [
    {
     "data": {
      "text/plain": [
       "0.6410778989808475"
      ]
     },
     "execution_count": 16,
     "metadata": {},
     "output_type": "execute_result"
    }
   ],
   "source": [
    "np.mean([0.6446168289352249, 0.637143775555619, 0.6414730924516989])"
   ]
  },
  {
   "cell_type": "code",
   "execution_count": 10,
   "metadata": {},
   "outputs": [],
   "source": [
    "cvalues=np.load('../../results/NCOUNT_1139/1139cvaluesfinetuned_features3.npy')\n",
    "cval2 = np.load('../../results/NCOUNT_1139/1139cvaluesfinetuned_features2.npy')"
   ]
  },
  {
   "cell_type": "code",
   "execution_count": 11,
   "metadata": {},
   "outputs": [
    {
     "data": {
      "text/plain": [
       "(array([   0,    0,    0, ..., 3711, 3711, 3711]),\n",
       " array([  0,   1,   3, ..., 251, 252, 255]))"
      ]
     },
     "execution_count": 11,
     "metadata": {},
     "output_type": "execute_result"
    }
   ],
   "source": [
    "features.nonzero()"
   ]
  },
  {
   "cell_type": "code",
   "execution_count": 12,
   "metadata": {},
   "outputs": [
    {
     "data": {
      "text/plain": [
       "array([ 1.12503673, -0.35036234, -0.90363698, ...,  0.        ,\n",
       "        0.        ,  0.        ])"
      ]
     },
     "execution_count": 12,
     "metadata": {},
     "output_type": "execute_result"
    }
   ],
   "source": [
    "cval2"
   ]
  },
  {
   "cell_type": "code",
   "execution_count": null,
   "metadata": {},
   "outputs": [],
   "source": []
  }
 ],
 "metadata": {
  "kernelspec": {
   "display_name": "Python 2",
   "language": "python",
   "name": "python2"
  },
  "language_info": {
   "codemirror_mode": {
    "name": "ipython",
    "version": 2
   },
   "file_extension": ".py",
   "mimetype": "text/x-python",
   "name": "python",
   "nbconvert_exporter": "python",
   "pygments_lexer": "ipython2",
   "version": "2.7.17"
  }
 },
 "nbformat": 4,
 "nbformat_minor": 2
}
