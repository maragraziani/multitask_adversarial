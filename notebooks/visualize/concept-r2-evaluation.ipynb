{
 "cells": [
  {
   "cell_type": "code",
   "execution_count": 1,
   "metadata": {},
   "outputs": [],
   "source": [
    "import numpy as np"
   ]
  },
  {
   "cell_type": "code",
   "execution_count": 2,
   "metadata": {},
   "outputs": [],
   "source": [
    "FOLD = 'DOMAIN'"
   ]
  },
  {
   "cell_type": "code",
   "execution_count": 3,
   "metadata": {},
   "outputs": [],
   "source": [
    "cvalues=np.load('../../results/{}/def_base_cvaluesfinetuned_features3.npy'.format(FOLD))\n",
    "features=np.load('../../results/{}/def_base_featuresfinetuned_features3.npy'.format(FOLD))"
   ]
  },
  {
   "cell_type": "code",
   "execution_count": 4,
   "metadata": {},
   "outputs": [],
   "source": [
    "cval = np.asarray([np.argmax(cvalues[i,:]) for i in range(len(cvalues))])"
   ]
  },
  {
   "cell_type": "code",
   "execution_count": 22,
   "metadata": {},
   "outputs": [
    {
     "data": {
      "text/plain": [
       "LinearSVC(C=1.0, class_weight=None, dual=True, fit_intercept=True,\n",
       "     intercept_scaling=1, loss='squared_hinge', max_iter=1000,\n",
       "     multi_class='ovr', penalty='l2', random_state=0, tol=0.0001,\n",
       "     verbose=0)"
      ]
     },
     "execution_count": 22,
     "metadata": {},
     "output_type": "execute_result"
    }
   ],
   "source": [
    "from sklearn.svm import LinearSVC\n",
    "clf=LinearSVC(random_state=0)\n",
    "clf.fit(features[:5000], cval[:5000])"
   ]
  },
  {
   "cell_type": "code",
   "execution_count": null,
   "metadata": {},
   "outputs": [],
   "source": [
    "plt.plot(cval)"
   ]
  },
  {
   "cell_type": "code",
   "execution_count": null,
   "metadata": {},
   "outputs": [],
   "source": []
  },
  {
   "cell_type": "code",
   "execution_count": 23,
   "metadata": {},
   "outputs": [
    {
     "data": {
      "text/plain": [
       "0.6347826086956522"
      ]
     },
     "execution_count": 23,
     "metadata": {},
     "output_type": "execute_result"
    }
   ],
   "source": [
    "clf.score(features[5000:5690], cval[5000:5690])"
   ]
  },
  {
   "cell_type": "code",
   "execution_count": 25,
   "metadata": {},
   "outputs": [
    {
     "data": {
      "text/plain": [
       "0.6289855072463768"
      ]
     },
     "execution_count": 25,
     "metadata": {},
     "output_type": "execute_result"
    }
   ],
   "source": [
    "cvalues=np.load('../../results/{}/def_cvaluesfinetuned_features3.npy'.format(FOLD))\n",
    "features=np.load('../../results/{}/def_featuresfinetuned_features3.npy'.format(FOLD))\n",
    "cval = np.asarray([np.argmax(cvalues[i,:]) for i in range(len(cvalues))])\n",
    "clf2=LinearSVC(random_state=0)\n",
    "clf2.fit(features[5000:5690], cval[5000:5690])\n",
    "clf2.score(features[5000:5690], cval[5000:5690])"
   ]
  },
  {
   "cell_type": "code",
   "execution_count": null,
   "metadata": {},
   "outputs": [],
   "source": [
    "from sklearn.linear_model import LinearRegression"
   ]
  },
  {
   "cell_type": "code",
   "execution_count": null,
   "metadata": {},
   "outputs": [],
   "source": [
    "lr=LinearRegression()"
   ]
  },
  {
   "cell_type": "code",
   "execution_count": null,
   "metadata": {},
   "outputs": [],
   "source": [
    "lr.fit(features[:, :], cvalues[:])\n",
    "lr.score(features[:, :], cvalues[:])"
   ]
  },
  {
   "cell_type": "raw",
   "metadata": {},
   "source": [
    "NCOUNT base    0.8649748545484747, 0.8493042435658555\n",
    "NCOUNT         0.8770606175065991, 0.8744199045942062, 0.8682217697767156\n",
    "NAREA base     0.6631280556315602, 0.6547138357539131, 0.6577563479799076\n",
    "NAREA          0.704882804780748, 0.6945062814593652, 0.7074399163616315\n",
    "CONTRAST base  0.577382986043501, 0.5515703057649841, 0.552577645197402\n",
    "CONTRAST       0.6446168289352249, 0.637143775555619, 0.6414730924516989\n",
    "DOMAIN base    0.6347826086956522\n",
    "DOMAIN         0.6289855072463768"
   ]
  },
  {
   "cell_type": "code",
   "execution_count": null,
   "metadata": {},
   "outputs": [],
   "source": [
    "cvalues=np.load('../../results/{}/def_cvaluesfinetuned_features3.npy'.format(FOLD))\n",
    "features=np.load('../../results/{}/def_featuresfinetuned_features3.npy'.format(FOLD))"
   ]
  },
  {
   "cell_type": "code",
   "execution_count": null,
   "metadata": {},
   "outputs": [],
   "source": [
    "lr=LinearRegression()\n",
    "lr.fit(features[:, :], cvalues[:])\n",
    "lr.score(features[:, :], cvalues[:])"
   ]
  },
  {
   "cell_type": "code",
   "execution_count": null,
   "metadata": {},
   "outputs": [],
   "source": [
    "np.mean([0.6446168289352249, 0.637143775555619, 0.6414730924516989])"
   ]
  },
  {
   "cell_type": "code",
   "execution_count": null,
   "metadata": {},
   "outputs": [],
   "source": [
    "cvalues=np.load('../../results/NCOUNT_1139/1139cvaluesfinetuned_features3.npy')\n",
    "cval2 = np.load('../../results/NCOUNT_1139/1139cvaluesfinetuned_features2.npy')"
   ]
  },
  {
   "cell_type": "code",
   "execution_count": null,
   "metadata": {},
   "outputs": [],
   "source": [
    "features.nonzero()"
   ]
  },
  {
   "cell_type": "code",
   "execution_count": null,
   "metadata": {},
   "outputs": [],
   "source": [
    "cval2"
   ]
  },
  {
   "cell_type": "code",
   "execution_count": null,
   "metadata": {},
   "outputs": [],
   "source": []
  }
 ],
 "metadata": {
  "kernelspec": {
   "display_name": "Python 2",
   "language": "python",
   "name": "python2"
  },
  "language_info": {
   "codemirror_mode": {
    "name": "ipython",
    "version": 2
   },
   "file_extension": ".py",
   "mimetype": "text/x-python",
   "name": "python",
   "nbconvert_exporter": "python",
   "pygments_lexer": "ipython2",
   "version": "2.7.17"
  }
 },
 "nbformat": 4,
 "nbformat_minor": 2
}
