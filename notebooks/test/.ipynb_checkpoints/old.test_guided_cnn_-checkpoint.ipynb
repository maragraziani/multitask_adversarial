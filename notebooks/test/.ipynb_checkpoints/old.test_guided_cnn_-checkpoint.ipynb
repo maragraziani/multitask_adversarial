{
 "cells": [
  {
   "cell_type": "code",
   "execution_count": 1,
   "metadata": {},
   "outputs": [],
   "source": [
    "model_folder='/home/mara/multitask_adversarial/results/F_CORRELATION/'"
   ]
  },
  {
   "cell_type": "code",
   "execution_count": 7,
   "metadata": {},
   "outputs": [
    {
     "name": "stdout",
     "output_type": "stream",
     "text": [
      "1\n"
     ]
    }
   ],
   "source": [
    "## Loading OS libraries to configure server preferences\n",
    "import os\n",
    "os.environ['TF_CPP_MIN_LOG_LEVEL'] = '3'\n",
    "import warnings\n",
    "warnings.filterwarnings(\"ignore\")\n",
    "import setproctitle\n",
    "SERVER_NAME = 'ultrafast'\n",
    "EXPERIMENT_TYPE='test_guidedCNN'\n",
    "import time\n",
    "import sys\n",
    "import shutil\n",
    "## Adding PROCESS_UC1 utilities\n",
    "sys.path.append('../../lib/TASK_2_UC1/')\n",
    "from models import *\n",
    "from util import otsu_thresholding\n",
    "from extract_xml import *\n",
    "from functions import *                   \n",
    "sys.path.append('../../lib/')\n",
    "from mlta import *\n",
    "import math\n",
    "from sklearn.metrics import roc_auc_score\n",
    "from sklearn.metrics import roc_curve, auc\n",
    "\n",
    "config = tf.ConfigProto()\n",
    "config.gpu_options.allow_growth = True\n",
    "config.gpu_options.visible_device_list = '0'\n",
    "keras.backend.set_session(tf.Session(config=config))\n",
    "\n",
    "verbose=1 \n",
    "\n",
    "cam16 = hd.File('/home/mara/adversarialMICCAI/data/ultrafast/cam16_500/patches.hdf5',  'r', libver='latest', swmr=True)\n",
    "all500 = hd.File('/home/mara/adversarialMICCAI/data/ultrafast/all500/patches.hdf5',  'r', libver='latest', swmr=True)\n",
    "extra17 = hd.File('/home/mara/adversarialMICCAI/data/ultrafast/extra17/patches.hdf5',  'r', libver='latest', swmr=True)\n",
    "tumor_extra17=hd.File('/home/mara/adversarialMICCAI/data/ultrafast/1129-1155/patches.hdf5', 'r', libver='latest', swmr=True)\n",
    "test2 = hd.File('/mnt/nas2/results/IntermediateResults/Camelyon/ultrafast/test_data2/patches.hdf5', 'r', libver='latest', swmr=True)\n",
    "pannuke= hd.File('/mnt/nas2/results/IntermediateResults/Camelyon/pannuke/patches_fix.hdf5', 'r', libver='latest', swmr=True)\n",
    "\n",
    "global data\n",
    "data={'cam16':cam16,'all500':all500,'extra17':extra17, 'tumor_extra17':tumor_extra17, 'test_data2': test2, 'pannuke':pannuke}\n",
    "global concept_db\n",
    "concept_db = hd.File('../../data/normalized_cmeasures/concept_values.hd','r')\n",
    "# Note: nuclei_concepts not supported yet\n",
    "global nuclei_concepts\n",
    "nuclei_concepts=hd.File('../../data/normalized_cmeasures/concept_values.hd','r')\n",
    "\n",
    "#SYSTEM CONFIGS \n",
    "CONFIG_FILE = 'doc/config.cfg'\n",
    "COLOR = True\n",
    "global new_folder\n",
    "new_folder=folder_name=model_folder\n",
    "BATCH_SIZE = 32\n",
    "\n",
    "seed=1\n",
    "print seed\n",
    "\n",
    "# SET PROCESS TITLE\n",
    "setproctitle.setproctitle('{}'.format(EXPERIMENT_TYPE))\n",
    "\n",
    "# SET SEED\n",
    "np.random.seed(seed)\n",
    "tf.set_random_seed(seed)\n",
    "\n",
    "# DATA SPLIT CSVs \n",
    "train_csv=open('/mnt/nas2/results/IntermediateResults/Camelyon/train_shuffle.csv', 'r') # How is the encoding of .csv files ?\n",
    "val_csv=open('/mnt/nas2/results/IntermediateResults/Camelyon/val_shuffle.csv', 'r')\n",
    "test_csv=open('/mnt/nas2/results/IntermediateResults/Camelyon/test_shuffle.csv', 'r')\n",
    "train_list=train_csv.readlines()\n",
    "val_list=val_csv.readlines()\n",
    "test_list=test_csv.readlines()\n",
    "test2_csv = open('/mnt/nas2/results/IntermediateResults/Camelyon/test2_shuffle.csv', 'r')\n",
    "test2_list=test2_csv.readlines()\n",
    "test2_csv.close()\n",
    "train_csv.close()\n",
    "val_csv.close()\n",
    "test_csv.close()\n",
    "#data_csv=open('/mnt/nas2/results/IntermediateResults/Camelyon/data_shuffle.csv', 'r')\n",
    "#data_csv=open('./data/train.csv', 'r')\n",
    "data_csv=open('/mnt/nas2/results/IntermediateResults/Camelyon/pannuke/pannuke_train_shuffled.csv', 'r')\n",
    "data_list=data_csv.readlines()\n",
    "data_csv.close()\n",
    "\n",
    "# STAIN NORMALIZATION\n",
    "def get_normalizer(patch, save_folder=''):\n",
    "    normalizer = ReinhardNormalizer()\n",
    "    normalizer.fit(patch)\n",
    "    np.save('{}/normalizer'.format(save_folder),normalizer)\n",
    "    np.save('{}/normalizing_patch'.format(save_folder), patch)\n",
    "    print('Normalisers saved to disk.')\n",
    "    return normalizer\n",
    "\n",
    "def normalize_patch(patch, normalizer):\n",
    "    return np.float64(normalizer.transform(np.uint8(patch)))"
   ]
  },
  {
   "cell_type": "code",
   "execution_count": 9,
   "metadata": {},
   "outputs": [
    {
     "name": "stdout",
     "output_type": "stream",
     "text": [
      "Using brightness standardization\n",
      "Normalisers saved to disk.\n",
      "__________________________________________________________________________________________________\n",
      "Layer (type)                    Output Shape         Param #     Connected to                     \n",
      "==================================================================================================\n",
      "inp (InputLayer)                (None, 224, 224, 3)  0                                            \n",
      "__________________________________________________________________________________________________\n",
      "y1_true (InputLayer)            (None, 1)            0                                            \n",
      "__________________________________________________________________________________________________\n",
      "y2_true (InputLayer)            (None, 1)            0                                            \n",
      "__________________________________________________________________________________________________\n",
      "model_5 (Model)                 [(None, 1), (None, 1 27180066    inp[0][0]                        \n",
      "__________________________________________________________________________________________________\n",
      "custom_multi_loss_layer_3 (Cust [(None, 1), (None, 1 2           y1_true[0][0]                    \n",
      "                                                                 y2_true[0][0]                    \n",
      "                                                                 model_5[1][0]                    \n",
      "                                                                 model_5[1][1]                    \n",
      "==================================================================================================\n",
      "Total params: 27,180,068\n",
      "Trainable params: 27,145,636\n",
      "Non-trainable params: 34,432\n",
      "__________________________________________________________________________________________________\n"
     ]
    }
   ],
   "source": [
    "# LOAD DATA NORMALIZER\n",
    "global normalizer\n",
    "db_name, entry_path, patch_no = get_keys(data_list[0])\n",
    "normalization_reference_patch = data[db_name][entry_path][patch_no]\n",
    "normalizer = get_normalizer(normalization_reference_patch, save_folder=new_folder)\n",
    "\n",
    "\"\"\"\n",
    "Building baseline model \n",
    "\"\"\"\n",
    "#\n",
    "# MODEL: BASELINE\n",
    "base_model = keras.applications.inception_v3.InceptionV3(include_top=False, weights='imagenet')\n",
    "#base_model = keras.applications.resnet50.ResNet50(include_top=True, weights='imagenet')\n",
    "#base_model = pretrained(ResNet50)((224,224,3),1000)\n",
    "#base_model = wide_resnet(50, 2048)((224,224,3), (1))\n",
    "feature_output=base_model.layers[-1].output\n",
    "feature_output = keras.layers.GlobalAveragePooling2D()(feature_output)\n",
    "feature_output = Dense(2048, activation='relu', kernel_regularizer=keras.regularizers.l2(0.01), name='finetuned_features1')(feature_output)\n",
    "feature_output = Dense(512, activation='relu', kernel_regularizer=keras.regularizers.l2(0.01), name='finetuned_features2')(feature_output)\n",
    "feature_output = Dense(256, activation='relu', kernel_regularizer=keras.regularizers.l2(0.01), name='finetuned_features3')(feature_output)\n",
    "finetuning = Dense(1,name='predictions')(feature_output)\n",
    "regression_output = keras.layers.Dense(1, activation = keras.layers.Activation('linear'), name='concept_regressor')(feature_output)\n",
    "model = Model(input=base_model.input, output=[finetuning, regression_output])\n",
    "\n",
    "\n",
    "# In[3]:\n",
    "\n",
    "\n",
    "def keras_mse(y_true, y_pred):\n",
    "    return tf.reduce_mean(tf.keras.losses.mean_squared_error(y_true, y_pred))\n",
    "    #return tf.keras.losses.mean_squared_error(y_true, y_pred)\n",
    "\n",
    "def bbce(y_true, y_pred):\n",
    "    # we use zero weights to set the loss to zero for unlabeled data\n",
    "    zero= tf.constant(-1, dtype=tf.float32)\n",
    "    where = tf.not_equal(y_true, zero)\n",
    "    where = tf.reshape(where, [-1])\n",
    "    indices=tf.where(where) #indices where the item of y_true is -1\n",
    "    indices = tf.reshape(indices, [-1])\n",
    "    sliced_y_true = tf.nn.embedding_lookup(y_true, indices)\n",
    "    sliced_y_pred = tf.nn.embedding_lookup(y_pred, indices)\n",
    "    n1 = tf.shape(indices)[0]\n",
    "    batch_size = tf.shape(y_true)[0]\n",
    "    n2 = batch_size - n1\n",
    "    sliced_y_true = tf.reshape(sliced_y_true, [n1, -1])\n",
    "    ce = tf.nn.sigmoid_cross_entropy_with_logits(labels=sliced_y_true,logits=sliced_y_pred)\n",
    "    n1_ = tf.cast(n1, tf.float32)\n",
    "    n2_ = tf.cast(n2, tf.float32)\n",
    "    multiplier = (n1_+ n2_) / n1_\n",
    "    zero_class = tf.constant(0, dtype=tf.float32)\n",
    "    where_class_is_zero=tf.cast(tf.equal(sliced_y_true, zero_class), dtype=tf.float32)\n",
    "    class_weight_zero = tf.cast(tf.divide(n1_, 2. * tf.cast(tf.reduce_sum(where_class_is_zero), dtype=tf.float32)+0.001), dtype=tf.float32)\n",
    "    one_class = tf.constant(1, dtype=tf.float32)\n",
    "    where_class_is_one=tf.cast(tf.equal(sliced_y_true, one_class), dtype=tf.float32)\n",
    "    class_weight_one = tf.cast(tf.divide(n1_, 2. * tf.cast(tf.reduce_sum(where_class_is_one),dtype=tf.float32)+0.001), dtype=tf.float32)\n",
    "    #class_weight_vector = [1-ytrue]*[cwzero] + [ytrue][cwone] = A + B\n",
    "    A = tf.ones(tf.shape(sliced_y_true), dtype=tf.float32) - sliced_y_true \n",
    "    A = tf.scalar_mul(class_weight_zero, A)\n",
    "    B = tf.scalar_mul(class_weight_one, sliced_y_true) \n",
    "    class_weight_vector=A+B\n",
    "    ce = class_weight_vector * ce\n",
    "    ce = tf.scalar_mul(multiplier,ce)\n",
    "    zero_tensor = tf.zeros([n2, 1])\n",
    "    final_ce = tf.cond(n2>0,\n",
    "                       lambda: tf.concat([ce, zero_tensor], axis=0),\n",
    "                       lambda: tf.scalar_mul(multiplier,ce))\n",
    "    return tf.reduce_mean(final_ce) \n",
    "\n",
    "# Custom loss layer\n",
    "from keras.initializers import Constant\n",
    "class CustomMultiLossLayer(Layer):\n",
    "    def __init__(self, nb_outputs=2, **kwargs):\n",
    "        self.nb_outputs = nb_outputs\n",
    "        self.is_placeholder = True\n",
    "        super(CustomMultiLossLayer, self).__init__(**kwargs)\n",
    "        \n",
    "    def build(self, input_shape=None):\n",
    "        # initialise log_vars\n",
    "        self.log_vars = []\n",
    "        for i in range(self.nb_outputs):\n",
    "            self.log_vars += [self.add_weight(name='log_var' + str(i), shape=(1,),\n",
    "                                              initializer=Constant(0.), trainable=True)]\n",
    "        super(CustomMultiLossLayer, self).build(input_shape)\n",
    "    \"\"\"\n",
    "    def multi_loss(self, ys_true, ys_pred):\n",
    "        assert len(ys_true) == self.nb_outputs and len(ys_pred) == self.nb_outputs\n",
    "        loss = 0\n",
    "        for y_true, y_pred, log_var in zip(ys_true, ys_pred, self.log_vars):\n",
    "            precision = K.exp(-log_var[0])\n",
    "            loss += K.sum(precision * (y_true - y_pred)**2. + log_var[0], -1)\n",
    "        return K.mean(loss)\n",
    "    \"\"\"\n",
    "    def multi_loss(self,  ys_true, ys_pred):\n",
    "        #print len(ys_true)\n",
    "        assert len(ys_true) == self.nb_outputs and len(ys_pred) == self.nb_outputs\n",
    "        loss = 0\n",
    "        i=0\n",
    "        for y_true, y_pred, log_var in zip(ys_true, ys_pred, self.log_vars):\n",
    "            precision =K.exp(-log_var[0])\n",
    "            if i==0:\n",
    "                pred_loss = bbce(y_true, y_pred)\n",
    "                term = precision*pred_loss + 0.5 * log_var[0] #K.sum(, -1)\n",
    "                #term = tf.Print(term,[term],'bce: ') #K.sum(precision*pred_loss + 0.5 * log_var[0], -1)\n",
    "            else:\n",
    "                pred_loss = keras_mse(y_true, y_pred)\n",
    "                #pred_loss=tf.Print(pred_loss, [pred_loss], 'MSE: ')\n",
    "                #log_var = tf.Print(log_var, [log_var], 'LOG_VAR_MSE: ')\n",
    "                term = 0.5 * precision * pred_loss + 0.5 * log_var[0]#K.sum(, -1)\n",
    "                #term = tf.Print(term,[term],'regr: ')\n",
    "                #term = K.sum(0.5 * precision * pred_loss + 0.5 * log_var[0], -1)\n",
    "            #precision = K.exp(-log_var[0])\n",
    "            loss += term \n",
    "            i+=1\n",
    "        return K.mean(loss)\n",
    "    \n",
    "    def call(self, inputs):\n",
    "        ys_true = inputs[:self.nb_outputs]\n",
    "        ys_pred = inputs[self.nb_outputs:]\n",
    "        loss = self.multi_loss(ys_true, ys_pred)\n",
    "        self.add_loss(loss, inputs=inputs)\n",
    "        # We won't actually use the output.\n",
    "        return K.concatenate(inputs, -1)\n",
    "\n",
    "\n",
    "# In[4]:\n",
    "\n",
    "\n",
    "def get_trainable_model(baseline_model):\n",
    "    inp = keras.layers.Input(shape=(224,224,3,), name='inp')\n",
    "    y1_pred, y2_pred = baseline_model(inp)\n",
    "    y1_true=keras.layers.Input(shape=(1,),name='y1_true')\n",
    "    y2_true=keras.layers.Input(shape=(1,),name='y2_true')\n",
    "    out = CustomMultiLossLayer(nb_outputs=2)([y1_true, y2_true, y1_pred, y2_pred])\n",
    "    return Model(input=[inp, y1_true, y2_true], output=out)\n",
    "\n",
    "\n",
    "# In[5]:\n",
    "\n",
    "\n",
    "t_m = get_trainable_model(model)\n",
    "\n",
    "\n",
    "# In[6]:\n",
    "\n",
    "\n",
    "t_m.summary()"
   ]
  },
  {
   "cell_type": "code",
   "execution_count": 10,
   "metadata": {},
   "outputs": [],
   "source": [
    "\"\"\"\n",
    "Batch generators: \n",
    "They load a patch list: a list of file names and paths. \n",
    "They use the list to create a batch of 32 samples. \n",
    "\"\"\"\n",
    "class Generator(Sequence):\n",
    "    # Class is a dataset wrapper for better training performance\n",
    "    def __init__(self, patch_list, batch_size=32):\n",
    "        #self.x, self.y = x_set, y_set\n",
    "        self.patch_list=patch_list\n",
    "        self.batch_size = batch_size\n",
    "        self.num_samples=len(patch_list)\n",
    "    def __len__(self):\n",
    "        return self.num_samples/self.batch_size\n",
    "    def __getitem__(self, idx):\n",
    "        while True:\n",
    "            offset = 0\n",
    "            batch_size=self.batch_size\n",
    "            for offset in range(0,self.num_samples, self.batch_size):\n",
    "                batch_x = []\n",
    "                batch_y = []\n",
    "                #batch_ones=[]\n",
    "                #batch_noise=[]\n",
    "                batch_contrast = []\n",
    "                #batch_domain = []\n",
    "                #batch_n_area = [] # nuclei average area\n",
    "                #batch_n_count = []\n",
    "                batch_samples=self.patch_list[offset:offset+batch_size]\n",
    "                for line in batch_samples:\n",
    "                    db_name, entry_path, patch_no = get_keys(line)\n",
    "                    patch=data[db_name][entry_path][patch_no]\n",
    "                    patch=normalize_patch(patch, normalizer)\n",
    "                    patch=keras.applications.inception_v3.preprocess_input(patch) #removed bc of BNorm\n",
    "                    #patch=keras.applications.resnet50.preprocess_input(patch) \n",
    "                    label = get_class(line, entry_path) # is there a problem with get_class ?\n",
    "                    batch_x.append(patch)\n",
    "                    batch_y.append(label)\n",
    "                batch_x=np.asarray(batch_x, dtype=np.float32)\n",
    "                batch_y=np.asarray(batch_y, dtype=np.float32)\n",
    "                batch_cm=np.ones(len(batch_y), dtype=np.float32)\n",
    "            inds = self.indices[idx * self.batch_size:(idx + 1) * self.batch_size]\n",
    "            batch_x = [batch_x, batch_y, batch_cm]\n",
    "            batch_y = batch_y\n",
    "            return batch_x, batch_y\n",
    "# Retrieve Concept Measures\n",
    "def _get_concept_measure(db_name, entry_path, patch_no, measure_type=''):\n",
    "    ### note: The measures in the file should have been scaled beforehand\n",
    "    # to have zero mean and unit std\n",
    "    if db_name=='pannuke':\n",
    "        #import pdb; pdb.set_trace()\n",
    "        try:\n",
    "            cm=concept_db[entry_path+'  /'+measure_type][0]\n",
    "            #print 'pannuke ', cm\n",
    "            return cm\n",
    "        except:\n",
    "            print \"[ERR]: {}, {}, {}, {}\".format(db_name, entry_path, patch_no, measure_type)\n",
    "            #print entry_path+'  /'+measure_type\n",
    "            return 1.\n",
    "    else:\n",
    "        try: \n",
    "            cm=concept_db[db_name+'/'+entry_path+'/'+str(patch_no)+'  /'+measure_type][0]\n",
    "            #print 'other ', cm\n",
    "            return cm\n",
    "        except:\n",
    "            print \"[ERR]: {}, {}, {}, {}\".format(db_name, entry_path, patch_no, measure_type)\n",
    "            #error_log.write('[get_concept_measure] {}, {}, {}, {}'.format(db_name, entry_path, patch_no, measure_type))\n",
    "            return 1.\n",
    "    \n",
    "def get_concept_measure(db_name, entry_path, patch_no, measure_type=''):\n",
    "    ### note: The measures in the file should have been scaled beforehand\n",
    "    # to have zero mean and unit std\n",
    "    if db_name=='pannuke':\n",
    "        try:\n",
    "            #cm=concept_db[entry_path+' /'+measure_type][0]\n",
    "            cm=concept_db[entry_path+'  /'+measure_type][0]\n",
    "            #print 'pannuke ', cm\n",
    "            return cm\n",
    "        except:\n",
    "            print(\"[ERR]: {}, {}, {}, {}\".format(db_name, entry_path, patch_no, measure_type))\n",
    "            #print entry_path+'  /'+measure_type\n",
    "            return 1.\n",
    "    else:\n",
    "        try: \n",
    "            cm=concept_db[db_name+'/'+entry_path+'/'+str(patch_no)+'/ /'+measure_type][0]\n",
    "            #cm=concept_db[db_name+'/'+entry_path+'/'+str(patch_no)+'/'+measure_type][0]\n",
    "            #print db_name, entry_path,patch_no\n",
    "            #print 'other ', cm\n",
    "            return cm\n",
    "        except:\n",
    "            print(\"[ERR]: {}, {}, {}, {}\".format(db_name, entry_path, patch_no, measure_type))\n",
    "            #error_log.write('[get_concept_measure] {}, {}, {}, {}'.format(db_name, entry_path, patch_no, measure_type))\n",
    "            return 1.\n",
    "def get_segmented_concept_measure(db_name, entry_path, patch_no, measure_type=''):\n",
    "    ### note: The measures in the file should have been scaled beforehand\n",
    "    # to have zero mean and unit std\n",
    "    try:\n",
    "        cm = nuclei_concepts[db_name+'/'+entry_path+'/'+str(patch_no)+'  /'+measure_type][0]\n",
    "    except:\n",
    "        #error_log.write('[get_segmented_concept_measure] {}, {}, {}, {}'.format(db_name, entry_path, patch_no, measure_type))\n",
    "        print \"[ERROR] Issue retreiving concept measure for {}, {}, {}, {}\".format(db_name, entry_path, patch_no, measure_type)\n",
    "        return 1.\n",
    "\n",
    "# BATCH GENERATORS\n",
    "def get_batch_data(patch_list, batch_size=32):\n",
    "    num_samples=len(patch_list)\n",
    "    while True:\n",
    "        offset = 0\n",
    "        for offset in range(0,num_samples, batch_size):\n",
    "            batch_x = []\n",
    "            batch_y = []\n",
    "            batch_contrast=[]\n",
    "            batch_samples=patch_list[offset:offset+batch_size]\n",
    "            for line in batch_samples[:(num_samples//batch_size)*batch_size]:\n",
    "                db_name, entry_path, patch_no = get_keys(line)\n",
    "                patch=data[db_name][entry_path][patch_no]\n",
    "                patch=normalize_patch(patch, normalizer)\n",
    "                patch=keras.applications.inception_v3.preprocess_input(patch) \n",
    "                label = get_class(line, entry_path) \n",
    "                batch_x.append(patch)\n",
    "                batch_y.append(label)\n",
    "                # ONES\n",
    "                #batch_ones.append(1.)\n",
    "                # NOISE\n",
    "                #batch_noise.append(np.random.normal(0.))\n",
    "                # CONCEPT = contrast\n",
    "                batch_contrast.append(get_concept_measure(db_name, entry_path, patch_no, measure_type='norm_correlation'))\n",
    "                # CONCEPT = domain\n",
    "                #batch_domain.append(get_domain(db_name, entry_path))\n",
    "                # CONCEPT = nuclei area\n",
    "                #batch_n_area.append(get_segmented_concept_measure(db_name, entry_path, patch_no, measure_type='area'))\n",
    "                #batch_contrast.append(get_segmented_concept_measure(db_name, entry_path, patch_no, measure_type='area'))\n",
    "                # CONCEPT = nuclei counts\n",
    "                #batch_n_count.append(get_segmented_concept_measure(db_name, entry_path, patch_no, measure_type='count'))\n",
    "                #batch_contrast.append(get_segmented_concept_measure(db_name, entry_path, patch_no, measure_type='count'))\n",
    "            #batch_domain=keras.utils.to_categorical(batch_domain, num_classes=6)\n",
    "            batch_x=np.asarray(batch_x, dtype=np.float32)\n",
    "            batch_y=np.asarray(batch_y, dtype=np.float32)\n",
    "            batch_cm=np.asarray(batch_contrast, dtype=np.float32) #ones(len(batch_y), dtype=np.float32)\n",
    "            #batch_cm=np.ones(len(batch_y), dtype=np.float32)\n",
    "            yield [batch_x, batch_y, batch_cm], None\n",
    "            \n",
    "def get_test_batch(patch_list, batch_size=32):\n",
    "    num_samples=len(patch_list)\n",
    "    while True:     \n",
    "        for offset in range(0,num_samples, batch_size):\n",
    "            batch_x = []\n",
    "            batch_y = []\n",
    "            batch_contrast = []\n",
    "            batch_samples=patch_list[offset:offset+batch_size]\n",
    "            for line in batch_samples:\n",
    "                db_name, entry_path, patch_no = get_keys(line)\n",
    "                patch=data[db_name][entry_path][patch_no]\n",
    "                patch=normalize_patch(patch, normalizer)\n",
    "                patch=keras.applications.inception_v3.preprocess_input(patch)\n",
    "                #patch=keras.applications.resnet50.preprocess_input(patch)\n",
    "                label = get_test_label(entry_path)\n",
    "                batch_x.append(patch)\n",
    "                batch_y.append(label)\n",
    "                #batch_ones.append(1.)\n",
    "                # NOISE\n",
    "                #batch_noise.append(np.random.normal(0.))\n",
    "                # CONCEPT = contrast\n",
    "                batch_contrast.append(get_concept_measure(db_name, entry_path, patch_no, measure_type='norm_correlation'))\n",
    "                # CONCEPT = domain\n",
    "                #batch_domain.append(get_domain(db_name, entry_path))\n",
    "                # CONCEPT = nuclei area\n",
    "                #batch_n_area.append(get_segmented_concept_measure(db_name, entry_path, patch_no, measure_type='area'))\n",
    "                #batch_contrast.append(get_segmented_concept_measure(db_name, entry_path, patch_no, measure_type='area'))\n",
    "                # CONCEPT = nuclei counts\n",
    "                #batch_n_count.append(get_segmented_concept_measure(db_name, entry_path, patch_no, measure_type='count'))\n",
    "                #batch_contrast.append(get_segmented_concept_measure(db_name, entry_path, patch_no, measure_type='count'))\n",
    "            #batch_domain=keras.utils.to_categorical(batch_domain, num_classes=6)\n",
    "            batch_x=np.asarray(batch_x, dtype=np.float32)\n",
    "            batch_y=np.asarray(batch_y, dtype=np.float32)\n",
    "            #batch_cm=np.ones(len(batch_y), dtype=np.float32)\n",
    "            batch_cm=np.asarray(batch_contrast, dtype=np.float32) # np.ones(len(batch_y), dtype=np.float32)\n",
    "            yield [batch_x, batch_y, batch_cm], None\n",
    "            #yield np.asarray(batch_x, dtype=np.float32), np.asarray(batch_y, dtype=np.float32), np.ones(len(batch_y), dtype=np.float32)#, np.asarray(batch_cm, dtype=np.float32)\n",
    "\n",
    "\n",
    "# In[2]:"
   ]
  },
  {
   "cell_type": "code",
   "execution_count": 11,
   "metadata": {},
   "outputs": [
    {
     "data": {
      "text/plain": [
       "'mixed10'"
      ]
     },
     "execution_count": 11,
     "metadata": {},
     "output_type": "execute_result"
    }
   ],
   "source": [
    "base_model.layers[-1].name"
   ]
  },
  {
   "cell_type": "code",
   "execution_count": 12,
   "metadata": {},
   "outputs": [],
   "source": [
    "t_m.load_weights('{}/best_model.h5'.format(model_folder), by_name=True)"
   ]
  },
  {
   "cell_type": "code",
   "execution_count": 13,
   "metadata": {},
   "outputs": [],
   "source": [
    "test_generator=get_test_batch(test_list, batch_size=BATCH_SIZE)"
   ]
  },
  {
   "cell_type": "code",
   "execution_count": 14,
   "metadata": {},
   "outputs": [],
   "source": [
    "test_list=test_list"
   ]
  },
  {
   "cell_type": "code",
   "execution_count": 15,
   "metadata": {},
   "outputs": [
    {
     "name": "stdout",
     "output_type": "stream",
     "text": [
      "84\n",
      "('accuracy: ', 0.4572586588061901)\n"
     ]
    }
   ],
   "source": [
    "from sklearn.metrics import accuracy_score\n",
    "steps=len(test_list)//BATCH_SIZE\n",
    "print(steps)\n",
    "initial_lr = 1e-4\n",
    "opt = keras.optimizers.SGD(lr=initial_lr, momentum=0.9, nesterov=True)\n",
    "t_m.compile(optimizer=opt, #optimizers.SGD(lr=1e-4, decay=1e-6, momentum=0.9, nesterov=True),\n",
    "             loss= None, #[classifier_loss, 'mean_squared_error'],\n",
    "               metrics=None)\n",
    "callbacks = []\n",
    "y_true=np.zeros(len(test_list))\n",
    "y_pred=np.zeros((len(test_list),1))\n",
    "N=0\n",
    "all_cm=np.zeros(len(test_list))\n",
    "all_p_cm=np.zeros(len(test_list))\n",
    "\n",
    "while N<len(test_list):\n",
    "    [x_b, y_b, cm_b], _ = test_generator.next()\n",
    "    pred_ = t_m.predict([x_b, y_b, cm_b])\n",
    "    y_p_b = pred_[:,2]\n",
    "    cm_p_b = pred_[:,3]\n",
    "    \n",
    "    y_true[N:N+len(y_b)]=y_b\n",
    "    y_pred[N:N+len(y_p_b)]=y_p_b.reshape(len(y_b),1)\n",
    "    all_p_cm[N:N+len(cm_p_b)]=cm_p_b.reshape(len(cm_p_b))\n",
    "    all_cm[N:N+len(cm_b)]=cm_b\n",
    "    N+=len(y_p_b)\n",
    "y_true=y_true.reshape((len(test_list),1))\n",
    "acc = my_accuracy(y_true, y_pred).eval(session=tf.Session())\n",
    "sliced_y_pred = tf.sigmoid(y_pred)\n",
    "y_pred_rounded = K.round(sliced_y_pred)\n",
    "acc_sc = accuracy_score(y_pred_rounded.eval(session=tf.Session()), y_true)\n",
    "print('accuracy: ', acc_sc)"
   ]
  },
  {
   "cell_type": "code",
   "execution_count": 16,
   "metadata": {},
   "outputs": [],
   "source": [
    "def compute_rsquared(labels, predictions):\n",
    "    errors = labels - predictions\n",
    "    sum_squared_errors = np.sum(np.asarray([pow(errors[i],2) for i in range(len(errors))]))\n",
    "    # total sum of squares, TTS\n",
    "    average_y = np.mean(labels)\n",
    "    total_errors = labels - average_y\n",
    "    total_sum_squares = np.sum(np.asarray([pow(total_errors[i],2) for i in range(len(total_errors))]))\n",
    "    #rsquared is 1-RSS/TTS\n",
    "    rss_over_tts =   sum_squared_errors/total_sum_squares\n",
    "    rsquared = 1-rss_over_tts\n",
    "    return rsquared"
   ]
  },
  {
   "cell_type": "code",
   "execution_count": 17,
   "metadata": {},
   "outputs": [
    {
     "data": {
      "text/plain": [
       "-2.2469115600241225"
      ]
     },
     "execution_count": 17,
     "metadata": {},
     "output_type": "execute_result"
    }
   ],
   "source": [
    "compute_rsquared(all_cm, all_p_cm)"
   ]
  },
  {
   "cell_type": "code",
   "execution_count": 18,
   "metadata": {},
   "outputs": [],
   "source": [
    "def compute_mse(labels, predictions):\n",
    "    errors = labels - predictions\n",
    "    sum_squared_errors = np.sum(np.asarray([pow(errors[i],2) for i in range(len(errors))]))\n",
    "    mse = sum_squared_errors / len(labels)\n",
    "    return mse"
   ]
  },
  {
   "cell_type": "code",
   "execution_count": 19,
   "metadata": {},
   "outputs": [
    {
     "data": {
      "text/plain": [
       "2.160769588251806"
      ]
     },
     "execution_count": 19,
     "metadata": {},
     "output_type": "execute_result"
    }
   ],
   "source": [
    "compute_mse(all_cm, all_p_cm)"
   ]
  },
  {
   "cell_type": "code",
   "execution_count": 20,
   "metadata": {},
   "outputs": [
    {
     "name": "stdout",
     "output_type": "stream",
     "text": [
      "('Test acc: ', 0.4572586588061901)\n"
     ]
    }
   ],
   "source": [
    "print('Test acc: ', acc_sc)"
   ]
  },
  {
   "cell_type": "code",
   "execution_count": 21,
   "metadata": {},
   "outputs": [],
   "source": [
    "def my_accuracy(y_true, y_pred):\n",
    "    sliced_y_pred = tf.sigmoid(y_pred)\n",
    "    y_pred_rounded = K.round(sliced_y_pred)\n",
    "    acc = tf.equal(y_pred_rounded, y_true)\n",
    "    acc = tf.reduce_mean(tf.cast(acc, tf.float32))\n",
    "    return acc"
   ]
  },
  {
   "cell_type": "code",
   "execution_count": 22,
   "metadata": {},
   "outputs": [
    {
     "data": {
      "text/plain": [
       "0.45725867"
      ]
     },
     "execution_count": 22,
     "metadata": {},
     "output_type": "execute_result"
    }
   ],
   "source": [
    "my_accuracy(y_true, y_pred).eval(session=tf.Session())"
   ]
  },
  {
   "cell_type": "code",
   "execution_count": 23,
   "metadata": {},
   "outputs": [
    {
     "name": "stdout",
     "output_type": "stream",
     "text": [
      "auc:  0.5471647765176785\n"
     ]
    }
   ],
   "source": [
    "sliced_y_pred = tf.sigmoid(y_pred)\n",
    "#y_pred_rounded = K.round(sliced_y_pred)\n",
    "auc_score=sklearn.metrics.roc_auc_score(y_true,sliced_y_pred.eval(session=tf.Session()))\n",
    "print 'auc: ', auc_score"
   ]
  },
  {
   "cell_type": "code",
   "execution_count": 24,
   "metadata": {},
   "outputs": [
    {
     "data": {
      "image/png": "[encoded data removed]",
      "text/plain": [
       "<Figure size 432x288 with 1 Axes>"
      ]
     },
     "metadata": {
      "needs_background": "light"
     },
     "output_type": "display_data"
    }
   ],
   "source": [
    "from sklearn.metrics import auc\n",
    "from sklearn.metrics import confusion_matrix\n",
    "\n",
    "y_pred = sliced_y_pred.eval(session=tf.Session())\n",
    "\n",
    "fpr = dict()\n",
    "tpr = dict()\n",
    "roc_auc = dict()\n",
    "for i in range(1):\n",
    "    fpr[i], tpr[i], _ = roc_curve(y_true[:, i], y_pred[:, i])\n",
    "    roc_auc[i] = auc(fpr[i], tpr[i])\n",
    "\n",
    "# Compute micro-average ROC curve and ROC area\n",
    "fpr[\"micro\"], tpr[\"micro\"], _ = roc_curve(y_true.ravel(), y_pred.ravel())\n",
    "roc_auc[\"micro\"] = auc_score\n",
    "plt.figure()\n",
    "lw = 2\n",
    "plt.plot(fpr[0], tpr[0], color='darkorange',\n",
    "         lw=lw, label='ROC curve (area = %0.2f)' % roc_auc[0])\n",
    "plt.plot([0, 1], [0, 1], color='navy', lw=lw, linestyle='--')\n",
    "plt.xlim([0.0, 1.0])\n",
    "plt.ylim([0.0, 1.05])\n",
    "plt.xlabel('False Positive Rate')\n",
    "plt.ylabel('True Positive Rate')\n",
    "plt.title('Receiver operating characteristic example')\n",
    "plt.legend(loc=\"lower right\")\n",
    "plt.show()"
   ]
  },
  {
   "cell_type": "code",
   "execution_count": 25,
   "metadata": {},
   "outputs": [],
   "source": [
    "auc_record = open('{}/auc_internal.txt'.format(model_folder), 'w')\n",
    "auc_record.write('{}'.format(roc_auc[0]))\n",
    "auc_record.close()"
   ]
  },
  {
   "cell_type": "code",
   "execution_count": 26,
   "metadata": {},
   "outputs": [
    {
     "name": "stdout",
     "output_type": "stream",
     "text": [
      "[[1200   15]\n",
      " [1458   41]]\n"
     ]
    }
   ],
   "source": [
    "cm=confusion_matrix(y_true, y_pred_rounded.eval(session=tf.Session()))\n",
    "print(cm)"
   ]
  },
  {
   "cell_type": "code",
   "execution_count": 27,
   "metadata": {},
   "outputs": [],
   "source": [
    "external_test_generator=get_test_batch(test2_list, batch_size=BATCH_SIZE)"
   ]
  },
  {
   "cell_type": "code",
   "execution_count": null,
   "metadata": {
    "scrolled": true
   },
   "outputs": [],
   "source": [
    "from sklearn.metrics import accuracy_score\n",
    "initial_lr = 1e-4\n",
    "\n",
    "y_true=np.zeros(len(test2_list))\n",
    "y_pred=np.zeros((len(test2_list),1))\n",
    "N=0\n",
    "while N<len(test2_list):\n",
    "    [x_b, y_b, cm_b], _ = external_test_generator.next()\n",
    "    pred_ = t_m.predict([x_b, y_b, cm_b])\n",
    "    y_p_b = pred_[:,2]\n",
    "    cm_p_b = pred_[:,3]\n",
    "    y_true[N:N+len(y_b)]=y_b\n",
    "    y_pred[N:N+len(y_p_b)]=y_p_b.reshape(len(y_b),1)\n",
    "    y_true[N:N+len(y_b)]=y_b\n",
    "    y_pred[N:N+len(y_p_b)]=y_p_b.reshape(len(y_b),1)\n",
    "    all_p_cm[N:N+len(cm_p_b)]=cm_p_b.reshape(len(cm_p_b))\n",
    "    all_cm[N:N+len(cm_b)]=cm_b\n",
    "    N+=len(y_p_b)\n",
    "    #print len(y_p_b)\n",
    "y_true=y_true.reshape((len(test2_list),1))\n",
    "acc = my_accuracy(y_true, y_pred).eval(session=tf.Session())\n",
    "sliced_y_pred = tf.sigmoid(y_pred)\n",
    "y_pred_rounded = K.round(sliced_y_pred)\n",
    "acc_sc = accuracy_score(y_pred_rounded.eval(session=tf.Session()), y_true)\n",
    "#print('accuracy: ', acc_sc)"
   ]
  },
  {
   "cell_type": "code",
   "execution_count": null,
   "metadata": {},
   "outputs": [],
   "source": [
    "sliced_y_pred = tf.sigmoid(y_pred)\n",
    "y_pred_rounded = K.round(sliced_y_pred)"
   ]
  },
  {
   "cell_type": "code",
   "execution_count": null,
   "metadata": {},
   "outputs": [],
   "source": [
    "print('accuracy: ', acc)"
   ]
  },
  {
   "cell_type": "code",
   "execution_count": null,
   "metadata": {},
   "outputs": [],
   "source": [
    "sliced_y_pred = tf.sigmoid(y_pred)\n",
    "#y_pred_rounded = K.round(sliced_y_pred)\n",
    "auc_score=sklearn.metrics.roc_auc_score(y_true,sliced_y_pred.eval(session=tf.Session()))\n",
    "print 'auc: ', auc_score"
   ]
  },
  {
   "cell_type": "code",
   "execution_count": null,
   "metadata": {},
   "outputs": [],
   "source": [
    "from sklearn.metrics import auc\n",
    "from sklearn.metrics import confusion_matrix\n",
    "y_pred=tf.sigmoid(y_pred).eval(session=tf.Session())\n",
    "auc_score=sklearn.metrics.roc_auc_score(y_true,sliced_y_pred.eval(session=tf.Session()))\n",
    "fpr = dict()\n",
    "tpr = dict()\n",
    "roc_auc = dict()\n",
    "for i in range(1):\n",
    "    fpr[i], tpr[i], _ = roc_curve(y_true[:, i], y_pred[:, i])\n",
    "    roc_auc[i] = auc(fpr[i], tpr[i])\n",
    "\n",
    "# Compute micro-average ROC curve and ROC area\n",
    "fpr[\"micro\"], tpr[\"micro\"], _ = roc_curve(y_true.ravel(), y_pred.ravel())\n",
    "roc_auc[\"micro\"] = auc_score\n",
    "plt.figure()\n",
    "lw = 2\n",
    "plt.plot(fpr[0], tpr[0], color='darkorange',\n",
    "         lw=lw, label='ROC curve (area = %0.2f)' % roc_auc[0])\n",
    "plt.plot([0, 1], [0, 1], color='navy', lw=lw, linestyle='--')\n",
    "plt.xlim([0.0, 1.0])\n",
    "plt.ylim([0.0, 1.05])\n",
    "plt.xlabel('False Positive Rate')\n",
    "plt.ylabel('True Positive Rate')\n",
    "plt.title('Receiver operating characteristic example')\n",
    "plt.legend(loc=\"lower right\")\n",
    "plt.show()"
   ]
  },
  {
   "cell_type": "code",
   "execution_count": null,
   "metadata": {},
   "outputs": [],
   "source": [
    "cm=confusion_matrix(y_true, y_pred_rounded.eval(session=tf.Session()))\n",
    "print(cm)"
   ]
  },
  {
   "cell_type": "code",
   "execution_count": null,
   "metadata": {},
   "outputs": [],
   "source": [
    "auc_record = open('{}/auc_external.txt'.format(model_folder), 'w')\n",
    "auc_record.write('{}'.format(auc_score))\n",
    "auc_record.close()"
   ]
  },
  {
   "cell_type": "code",
   "execution_count": null,
   "metadata": {},
   "outputs": [],
   "source": [
    "auc_score"
   ]
  },
  {
   "cell_type": "code",
   "execution_count": null,
   "metadata": {},
   "outputs": [],
   "source": [
    "compute_rsquared(all_cm, all_p_cm)"
   ]
  },
  {
   "cell_type": "code",
   "execution_count": null,
   "metadata": {},
   "outputs": [],
   "source": [
    "compute_mse(all_cm, all_p_cm)"
   ]
  },
  {
   "cell_type": "code",
   "execution_count": null,
   "metadata": {},
   "outputs": [],
   "source": []
  },
  {
   "cell_type": "code",
   "execution_count": null,
   "metadata": {},
   "outputs": [],
   "source": []
  },
  {
   "cell_type": "code",
   "execution_count": null,
   "metadata": {},
   "outputs": [],
   "source": []
  }
 ],
 "metadata": {
  "kernelspec": {
   "display_name": "Python 2",
   "language": "python",
   "name": "python2"
  },
  "language_info": {
   "codemirror_mode": {
    "name": "ipython",
    "version": 2
   },
   "file_extension": ".py",
   "mimetype": "text/x-python",
   "name": "python",
   "nbconvert_exporter": "python",
   "pygments_lexer": "ipython2",
   "version": "2.7.17"
  }
 },
 "nbformat": 4,
 "nbformat_minor": 2
}
